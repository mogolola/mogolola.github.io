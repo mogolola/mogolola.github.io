{
 "cells": [
  {
   "cell_type": "code",
   "execution_count": 78,
   "metadata": {
    "collapsed": true
   },
   "outputs": [],
   "source": [
    "def checkPerfectNumber(num):\n",
    "        \"\"\"\n",
    "        :type num: int\n",
    "        :rtype: bool\n",
    "        \"\"\"\n",
    "        \n",
    "        \n",
    "        perfect_num = False\n",
    "        left = 2\n",
    "        right = int(num / left)\n",
    "        divisors = [1]\n",
    "        potential_divisors=[i for i in range(left, right+1)]\n",
    "        while left < right:\n",
    "            if num % left == 0:\n",
    "                right = int(num / left)\n",
    "                divisors.extend((left,right))\n",
    "                potential_divisors = [i for i in potential_divisors if i > left and i < right]\n",
    "                if potential_divisors == []:\n",
    "                    break\n",
    "                left = potential_divisors[0]\n",
    "\n",
    "            else:\n",
    "                for i in potential_divisors[1:-1]:\n",
    "                    if i % left == 0:\n",
    "                        index = potential_divisors.index(i)\n",
    "                        potential_divisors.pop(index)\n",
    "                potential_divisors.pop()\n",
    "                potential_divisors.pop(0)\n",
    "                if potential_divisors == []:\n",
    "                    break\n",
    "                left = potential_divisors[0]\n",
    "                right = potential_divisors[-1]\n",
    "\n",
    "        if num == sum(divisors):\n",
    "            perfect_num = True\n",
    "        return perfect_num"
   ]
  },
  {
   "cell_type": "code",
   "execution_count": 74,
   "metadata": {
    "collapsed": true
   },
   "outputs": [],
   "source": [
    "l=[12,3,4,5,56,6,6]"
   ]
  },
  {
   "cell_type": "code",
   "execution_count": 65,
   "metadata": {},
   "outputs": [
    {
     "data": {
      "text/plain": [
       "[3, 4, 5, 56, 6]"
      ]
     },
     "execution_count": 65,
     "metadata": {},
     "output_type": "execute_result"
    }
   ],
   "source": [
    "l[1:-1]"
   ]
  },
  {
   "cell_type": "code",
   "execution_count": 114,
   "metadata": {},
   "outputs": [],
   "source": [
    "def checkPerfectNumber(num):\n",
    "        \"\"\"\n",
    "        :type num: int\n",
    "        :rtype: bool\n",
    "        \"\"\"\n",
    "        if not isinstance(num, int):\n",
    "            return False\n",
    "        \n",
    "        divisors = [1]\n",
    "        perfect_num = False\n",
    "        n=int(num**0.5)+1\n",
    "        for i in range(2,n):\n",
    "            if num % i ==0:\n",
    "                i_pair = int(num / i)\n",
    "                divisors.extend((i,i_pair))\n",
    "        print (divisors)\n",
    "        return (sum(divisors) == num)"
   ]
  },
  {
   "cell_type": "code",
   "execution_count": 115,
   "metadata": {},
   "outputs": [
    {
     "name": "stdout",
     "output_type": "stream",
     "text": [
      "[1]\n"
     ]
    },
    {
     "data": {
      "text/plain": [
       "True"
      ]
     },
     "execution_count": 115,
     "metadata": {},
     "output_type": "execute_result"
    }
   ],
   "source": [
    "checkPerfectNumber(1)"
   ]
  },
  {
   "cell_type": "code",
   "execution_count": null,
   "metadata": {
    "collapsed": true
   },
   "outputs": [],
   "source": []
  },
  {
   "cell_type": "code",
   "execution_count": null,
   "metadata": {
    "collapsed": true
   },
   "outputs": [],
   "source": []
  }
 ],
 "metadata": {
  "kernelspec": {
   "display_name": "Python 3",
   "language": "python",
   "name": "python3"
  },
  "language_info": {
   "codemirror_mode": {
    "name": "ipython",
    "version": 3
   },
   "file_extension": ".py",
   "mimetype": "text/x-python",
   "name": "python",
   "nbconvert_exporter": "python",
   "pygments_lexer": "ipython3",
   "version": "3.6.3"
  }
 },
 "nbformat": 4,
 "nbformat_minor": 2
}
